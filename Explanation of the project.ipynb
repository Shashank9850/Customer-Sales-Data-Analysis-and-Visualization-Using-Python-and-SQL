{
 "cells": [
  {
   "cell_type": "markdown",
   "id": "ee6cf6ee-d5db-4100-a772-81e8b544b493",
   "metadata": {},
   "source": [
    "Explination of the Customer Sales Data Analysis and Visualization Using Python and SQL"
   ]
  },
  {
   "cell_type": "code",
   "execution_count": null,
   "id": "43b356d5-c7d5-4bd7-8d72-3e2e99d936b8",
   "metadata": {},
   "outputs": [],
   "source": [
    "import sqlite3\n",
    "import pandas as pd\n",
    "import matplotlib.pyplot as plt\n"
   ]
  },
  {
   "cell_type": "markdown",
   "id": "153e346e-99ea-4ee0-8033-3e6f5d55833d",
   "metadata": {},
   "source": [
    "Importing Libraries:\r\n",
    "sqlite3: This helps us create and manage a small pretend database on our computer.\r\n",
    "pandas: This is like a super-smart table that helps us organize and play with our data.\r\n",
    "matplotlib.pyplot: This helps us draw pictures (graphs) to see our data in a nice way."
   ]
  },
  {
   "cell_type": "code",
   "execution_count": null,
   "id": "34792cdd-3546-4824-903b-2b11f0ae19b1",
   "metadata": {},
   "outputs": [],
   "source": [
    "# Step 1: Data Collection and Exploration with SQL\n",
    "sales_data = pd.read_csv(r\"C:\\Users\\User\\Downloads\\Book1.csv\")\n"
   ]
  },
  {
   "cell_type": "markdown",
   "id": "21870094-4d51-4ebf-9d48-8bb708cd0446",
   "metadata": {},
   "source": [
    "Reading the Data:\r\n",
    "We are opening a file called \"Book1.csv\" which has our sales data. This data is now in a table called sales_data."
   ]
  },
  {
   "cell_type": "code",
   "execution_count": null,
   "id": "225416ff-3d97-4b9f-8368-2244440fc763",
   "metadata": {},
   "outputs": [],
   "source": [
    "conn = sqlite3.connect(\":memory:\")\n",
    "sales_data.to_sql(\"sales_table\", conn, if_exists=\"replace\", index=False)\n"
   ]
  },
  {
   "cell_type": "markdown",
   "id": "12cfb436-508a-4b7e-8146-229c2dee0f55",
   "metadata": {},
   "source": [
    "Creating a Pretend Database:\n",
    "conn = sqlite3.connect(\":memory:\"): We are making a pretend database that lives in the computer's memory (like a chalkboard that we can write on and erase).\n",
    "sales_data.to_sql(\"sales_table\", conn, if_exists=\"replace\", index=False): We are copying our sales data into this pretend database and naming the table sales_table."
   ]
  },
  {
   "cell_type": "code",
   "execution_count": null,
   "id": "53de86ca-df75-4862-894b-60f3e22f6dd9",
   "metadata": {},
   "outputs": [],
   "source": [
    "# Querying the table structure, preview of data, and total sales separately\n",
    "query_structure = \"PRAGMA table_info(sales_table);\"\n",
    "query_preview = \"SELECT * FROM sales_table LIMIT 5;\"\n",
    "query_total_sales = \"SELECT SUM(Amount) AS TotalSales FROM sales_table;\"\n"
   ]
  },
  {
   "cell_type": "markdown",
   "id": "98a11c0e-af23-42cf-830e-fbfc3d165a3b",
   "metadata": {},
   "source": [
    "Writing SQL Queries:\r\n",
    "query_structure: This asks the database to show us the structure of our table.\r\n",
    "query_preview: This asks to show the first 5 rows of our data to see what it looks like.\r\n",
    "query_total_sales: This asks to calculate the total amount of sales."
   ]
  },
  {
   "cell_type": "code",
   "execution_count": null,
   "id": "09bd4665-21ea-4efa-8154-c857a7a0a87a",
   "metadata": {},
   "outputs": [],
   "source": [
    "structure = pd.read_sql(query_structure, conn)\n",
    "preview = pd.read_sql(query_preview, conn)\n",
    "total_sales = pd.read_sql(query_total_sales, conn)\n"
   ]
  },
  {
   "cell_type": "markdown",
   "id": "2c158cc1-50fc-4a10-a8b0-579e6b21f3e3",
   "metadata": {},
   "source": [
    "Running the Queries:\r\n",
    "structure = pd.read_sql(query_structure, conn): We run the query to get the table structure and store it in structure.\r\n",
    "preview = pd.read_sql(query_preview, conn): We run the query to get a preview of the data and store it in preview.\r\n",
    "total_sales = pd.read_sql(query_total_sales, conn): We run the query to get the total sales and store it in total_sales."
   ]
  },
  {
   "cell_type": "code",
   "execution_count": null,
   "id": "cf2a1c0d-c42f-4a9e-acc1-6b4a2b4839af",
   "metadata": {},
   "outputs": [],
   "source": [
    "# Step 2: Data Analysis with Python\n",
    "mean_sales = sales_data['Amount'].mean()\n",
    "median_sales = sales_data['Amount'].median()\n"
   ]
  },
  {
   "cell_type": "markdown",
   "id": "903775c5-b8cf-4e39-9039-4279a113c1cd",
   "metadata": {},
   "source": [
    "Calculating Statistics:\r\n",
    "mean_sales: This calculates the average amount of sales.\r\n",
    "median_sales: This finds the middle value of the sales amounts (if you sorted them from smallest to largest)."
   ]
  },
  {
   "cell_type": "code",
   "execution_count": null,
   "id": "e95cd60b-e759-4543-bcfd-ec1580eb33eb",
   "metadata": {},
   "outputs": [],
   "source": [
    "sales_data['SalesDate'] = pd.to_datetime(sales_data['SalesDate'])\n",
    "monthly_sales = sales_data.groupby(sales_data['SalesDate'].dt.to_period('M'))['Amount'].sum()\n"
   ]
  },
  {
   "cell_type": "markdown",
   "id": "b1282b68-a5bb-49e2-a20b-063b9dfe878d",
   "metadata": {},
   "source": [
    "Organizing Data by Month:\r\n",
    "sales_data['SalesDate'] = pd.to_datetime(sales_data['SalesDate']): We change the sales dates into a special date format.\r\n",
    "monthly_sales: We group the sales by month and add up the amounts for each month."
   ]
  },
  {
   "cell_type": "code",
   "execution_count": null,
   "id": "3845d581-108f-4a44-9fae-d6e8326e595c",
   "metadata": {},
   "outputs": [],
   "source": [
    "# Step 3: Visualization\n",
    "plt.figure(figsize=(10, 6))\n",
    "monthly_sales.plot(kind='line')\n",
    "plt.title('Monthly Sales Trends')\n",
    "plt.xlabel('Month')\n",
    "plt.ylabel('Total Sales Amount')\n",
    "plt.show()\n"
   ]
  },
  {
   "cell_type": "markdown",
   "id": "3de2ea61-4067-4051-b2c7-6f63bab652cc",
   "metadata": {},
   "source": [
    "Drawing the Graph:\n",
    "We make a picture (graph) showing how sales change each month. This helps us see trends or patterns."
   ]
  },
  {
   "cell_type": "code",
   "execution_count": null,
   "id": "a306463b-f639-4592-bf0c-28093a151ed6",
   "metadata": {},
   "outputs": [],
   "source": [
    "# Step 4: Insights\n",
    "sales_by_category = sales_data.groupby('ProductCategory')['Amount'].sum()\n",
    "top_selling_product = sales_by_category.idxmax()\n",
    "peak_sales_month = monthly_sales.idxmax()\n"
   ]
  },
  {
   "cell_type": "markdown",
   "id": "38d1f6dd-5856-451d-b768-003858572d14",
   "metadata": {},
   "source": [
    "Finding Interesting Things:\r\n",
    "sales_by_category: We add up sales for each product category.\r\n",
    "top_selling_product: We find which product category sold the most.\r\n",
    "peak_sales_month: We find which month had the highest sales."
   ]
  },
  {
   "cell_type": "code",
   "execution_count": null,
   "id": "6a1bc339-cddf-409b-a4c2-5e0382135ae3",
   "metadata": {},
   "outputs": [],
   "source": [
    "# Step 5: Conclusion and Documentation\n",
    "print(\"Mean Sales Amount:\", mean_sales)\n",
    "print(\"Median Sales Amount:\", median_sales)\n",
    "if not total_sales.empty:\n",
    "    print(\"Total Sales Amount:\", total_sales.iloc[0]['TotalSales'])\n",
    "else:\n",
    "    print(\"Total Sales Amount: No data available\")\n",
    "print(\"Top Selling Product Category:\", top_selling_product)\n",
    "print(\"Peak Sales Month:\", peak_sales_month)\n"
   ]
  },
  {
   "cell_type": "markdown",
   "id": "02f3ea45-b048-4b71-97a8-2ee199c75375",
   "metadata": {},
   "source": [
    "Showing Results:\n",
    "We print out the average sales amount.\n",
    "We print out the middle sales amount.\n",
    "We print the total sales amount.\n",
    "We print the top-selling product category.\n",
    "We print the month with the highest sales."
   ]
  }
 ],
 "metadata": {
  "kernelspec": {
   "display_name": "",
   "name": ""
  },
  "language_info": {
   "name": ""
  }
 },
 "nbformat": 4,
 "nbformat_minor": 5
}
